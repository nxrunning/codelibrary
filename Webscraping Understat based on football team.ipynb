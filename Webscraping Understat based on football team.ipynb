{
 "cells": [
  {
   "cell_type": "markdown",
   "metadata": {},
   "source": [
    "## Import Libraries"
   ]
  },
  {
   "cell_type": "code",
   "execution_count": null,
   "metadata": {},
   "outputs": [],
   "source": [
    "import requests\n",
    "from bs4 import BeautifulSoup\n",
    "import pandas as pd\n",
    "import json"
   ]
  },
  {
   "cell_type": "markdown",
   "metadata": {},
   "source": [
    "## Set up\n",
    " - Enter the football team of interest\n",
    " - Use underscores if there are spaces in between\n",
    " - Eg. football_team = \"Manchester_city\""
   ]
  },
  {
   "cell_type": "code",
   "execution_count": null,
   "metadata": {},
   "outputs": [],
   "source": [
    "# Insert football team name\n",
    "football_team = \"Chelsea\""
   ]
  },
  {
   "cell_type": "code",
   "execution_count": null,
   "metadata": {},
   "outputs": [],
   "source": [
    "# URL link\n",
    "base_url = \"https://understat.com/team/{}/2019\".format(football_team)"
   ]
  },
  {
   "cell_type": "markdown",
   "metadata": {},
   "source": [
    "## Web Scraping\n",
    "\n",
    "Data variables of interest:\n",
    " - Date and time of fixture\n",
    " - Team side: whether the team is the home/away side in each fixture\n",
    " - Home team: who is the home team in each fixture\n",
    " - Away team: who is the away team in each fixture\n",
    " - Home team goals: how many goals scored by the home team\n",
    " - Away team goals: how many goals scored by the away team\n",
    " - Home team xG: home team's expected goals\n",
    " - Away team xG: away team's expected goals"
   ]
  },
  {
   "cell_type": "code",
   "execution_count": null,
   "metadata": {},
   "outputs": [],
   "source": [
    "#### Web scraping procedures #### \n",
    "\n",
    "# Http request\n",
    "response = requests.get(base_url)\n",
    "\n",
    "# Html content\n",
    "html = response.content\n",
    "\n",
    "# Create BeautifulSoup object\n",
    "soup = BeautifulSoup(html, \"lxml\")\n",
    "\n",
    "# Locating the place with the data of interest\n",
    "scripts = soup.find_all(\"script\")\n",
    "\n",
    "#### Processing the json file #### \n",
    "\n",
    "string_with_json_obj = ''\n",
    "\n",
    "# Find data for fixtures\n",
    "for el in scripts:\n",
    "    if 'datesData' in el.text:\n",
    "      string_with_json_obj = el.text.strip()\n",
    "\n",
    "# strip unnecessary symbols and get only JSON data\n",
    "ind_start = string_with_json_obj.index(\"('\")+2\n",
    "ind_end = string_with_json_obj.index(\"')\")\n",
    "json_data = string_with_json_obj[ind_start:ind_end]\n",
    "\n",
    "json_data = json_data.encode('utf8').decode('unicode_escape')\n",
    "\n",
    "# Convert json file to dictionary format\n",
    "data = json.loads(json_data)\n",
    "\n",
    "#### Extracting and organising each of the relevant data variables in respective lists ####\n",
    "\n",
    "# Datetime for each fixture\n",
    "datetime_list = []\n",
    "\n",
    "for i in range(len(data)):\n",
    "    datetime = data[i][\"datetime\"]\n",
    "    datetime_list.append(datetime)\n",
    "\n",
    "# Recording whether the team plays home or away in each fixture\n",
    "team_side = []\n",
    "\n",
    "for i in range(len(data)):\n",
    "    side = data[i][\"side\"]\n",
    "    team_side.append(side)\n",
    "\n",
    "# Name of Home side in each fixture\n",
    "home_teams = []\n",
    "\n",
    "for i in range(len(data)):\n",
    "    team = data[i][\"h\"][\"title\"]\n",
    "    home_teams.append(team)\n",
    "\n",
    "# Name of Away side in each fixture\n",
    "away_teams = []\n",
    "\n",
    "for i in range(len(data)):\n",
    "    team = data[i][\"a\"][\"title\"]\n",
    "    away_teams.append(team)\n",
    "\n",
    "# Goals scored by home side in each fixture\n",
    "home_goals = []\n",
    "\n",
    "for i in range(len(data)):\n",
    "    goals = data[i][\"goals\"][\"h\"]\n",
    "    home_goals.append(goals)\n",
    "\n",
    "# Goals scored by away side in each fixture\n",
    "away_goals = []\n",
    "\n",
    "for i in range(len(data)):\n",
    "    goals = data[i][\"goals\"][\"a\"]\n",
    "    away_goals.append(goals)\n",
    "\n",
    "# Home side's expected goals in each fixture\n",
    "home_xG = []\n",
    "\n",
    "for i in range(len(data)):\n",
    "    expected_goals = data[i][\"xG\"][\"h\"]\n",
    "    home_xG.append(expected_goals)\n",
    "\n",
    "# Away side's expected goals in each fixture\n",
    "away_xG = []\n",
    "\n",
    "for i in range(len(data)):\n",
    "    expected_goals = data[i][\"xG\"][\"a\"]\n",
    "    away_xG.append(expected_goals)"
   ]
  },
  {
   "cell_type": "markdown",
   "metadata": {},
   "source": [
    "## Put all the extracted data into a nice dataframe "
   ]
  },
  {
   "cell_type": "code",
   "execution_count": null,
   "metadata": {},
   "outputs": [],
   "source": [
    "team_df = pd.DataFrame()\n",
    "\n",
    "team_df[\"Fixture\"] = range(1,39)\n",
    "team_df[\"Date\"] = datetime_list\n",
    "team_df[\"Home/Away\"] = team_side\n",
    "team_df[\"Home Team\"] = home_teams\n",
    "team_df[\"Away Team\"] = away_teams\n",
    "team_df[\"Home goals\"] = home_goals\n",
    "team_df[\"Away goals\"] = away_goals\n",
    "team_df[\"Home xG\"] = home_xG\n",
    "team_df[\"Away xG\"] = away_xG"
   ]
  },
  {
   "cell_type": "markdown",
   "metadata": {},
   "source": [
    "## Additional Data Pre-processing \n",
    "\n",
    " - Compute the goals scored by the team of interest (Team_Goals)\n",
    " - Compute the goals conceded by the team of interest (Team_Against)\n",
    " - Compute the expected goals achieved by the team of interest (Team_xG)\n",
    " - Compute the expected goals against by the team of interest (Team_xGA) "
   ]
  },
  {
   "cell_type": "code",
   "execution_count": null,
   "metadata": {},
   "outputs": [],
   "source": [
    "# First create some empty columns\n",
    "team_df[\"Team_Goals\"] = \"\"\n",
    "team_df[\"Team_Against\"] = \"\"\n",
    "team_df[\"Team_xG\"] = \"\"\n",
    "team_df[\"Team_xGA\"] = \"\"\n",
    "\n",
    "# Team name\n",
    "team_name = team_df[team_df[\"Home/Away\"]==\"h\"][\"Home Team\"].values[0]\n",
    "\n",
    "# Use for loop to compute the data\n",
    "for i in range(len(team_df)):\n",
    "    if team_df[\"Home Team\"][i] == team_name:\n",
    "        team_df[\"Team_Goals\"][i] = team_df[\"Home goals\"][i]\n",
    "        team_df[\"Team_xG\"][i] = team_df[\"Home xG\"][i]\n",
    "        team_df[\"Team_Against\"][i] = team_df[\"Away goals\"][i]\n",
    "        team_df[\"Team_xGA\"][i] = team_df[\"Away xG\"][i]\n",
    "\n",
    "    else:\n",
    "        team_df[\"Team_Goals\"][i] = team_df[\"Away goals\"][i]\n",
    "        team_df[\"Team_xG\"][i] = team_df[\"Away xG\"][i]\n",
    "        team_df[\"Team_Against\"][i] = team_df[\"Home goals\"][i]\n",
    "        team_df[\"Team_xGA\"][i] = team_df[\"Home xG\"][i]"
   ]
  },
  {
   "cell_type": "markdown",
   "metadata": {},
   "source": [
    "## Export dataframe into a csv file "
   ]
  },
  {
   "cell_type": "code",
   "execution_count": null,
   "metadata": {},
   "outputs": [],
   "source": [
    "team_df.to_csv(\"{}_fixtures.csv\".format(team_name))"
   ]
  }
 ],
 "metadata": {
  "kernelspec": {
   "display_name": "Python 3",
   "language": "python",
   "name": "python3"
  },
  "language_info": {
   "codemirror_mode": {
    "name": "ipython",
    "version": 3
   },
   "file_extension": ".py",
   "mimetype": "text/x-python",
   "name": "python",
   "nbconvert_exporter": "python",
   "pygments_lexer": "ipython3",
   "version": "3.7.0"
  }
 },
 "nbformat": 4,
 "nbformat_minor": 2
}
